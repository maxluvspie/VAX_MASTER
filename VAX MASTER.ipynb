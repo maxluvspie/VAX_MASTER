{
 "cells": [
  {
   "cell_type": "code",
   "execution_count": 1,
   "id": "naval-billy",
   "metadata": {},
   "outputs": [],
   "source": [
    "# import libraries\n",
    "import pandas as pd\n",
    "import numpy as np\n",
    "\n",
    "# set view parameters\n",
    "pd.set_option('display.max_columns', 999)\n",
    "pd.set_option('display.max_rows', 999)"
   ]
  },
  {
   "cell_type": "code",
   "execution_count": 2,
   "id": "crazy-procurement",
   "metadata": {},
   "outputs": [
    {
     "data": {
      "text/plain": [
       "4.578966206512041"
      ]
     },
     "execution_count": 2,
     "metadata": {},
     "output_type": "execute_result"
    }
   ],
   "source": [
    "##----------------------VAX SEQUENCE----------------------##\n",
    "# import vaccination data\n",
    "vax = pd.read_csv(\"vax by ZIP.csv\")\n",
    "vax = vax.rename(columns={'Zcta Num' : 'zip_code'}).astype('str')\n",
    "\n",
    "# fix vax dtypes\n",
    "vax.priority_neighborhood = vax.priority_neighborhood.astype(bool)\n",
    "vax.at_least_1_dose = vax.at_least_1_dose.astype('int64')\n",
    "vax.indicator = vax.indicator.astype(float)\n",
    "vax.fully_vaccinated = vax.fully_vaccinated.astype('int64')\n",
    "vax.partially_vaccinated = vax.partially_vaccinated.astype('int64')\n",
    "vax.perc_fully = vax.perc_fully.astype('float')\n",
    "vax.perc_partially = vax.perc_partially.astype('float')\n",
    "vax.pop_denominator = vax.pop_denominator.astype('int64')\n",
    "vax.pop_estimate = vax.pop_estimate.astype('int64')\n",
    "\n",
    "# determine citywide rate\n",
    "citywide_rate = 303709 / vax.pop_estimate.sum() * 100\n",
    "citywide_rate"
   ]
  },
  {
   "cell_type": "code",
   "execution_count": 3,
   "id": "boring-reconstruction",
   "metadata": {
    "scrolled": true
   },
   "outputs": [],
   "source": [
    "##----------------------POVERTY SEQUENCE----------------------##\n",
    "\n",
    "# import poverty data for all NYC ZIP codes\n",
    "url = 'https://api.census.gov/data/2019/acs/acs5?get=B19013_001E,B17001_001E,B17001_002E&for=zip%20code%20tabulation%20area:10000,10001,10002,10003,10004,10005,10006,10007,10009,10010,10011,10012,10013,10014,10016,10017,10018,10019,10020,10021,10022,10023,10024,10025,10026,10027,10028,10029,10030,10031,10032,10033,10034,10035,10036,10037,10038,10039,10040,10044,10065,10069,10075,10103,10110,10111,10112,10115,10119,10128,10152,10153,10154,10162,10165,10167,10168,10169,10170,10171,10172,10173,10174,10177,10199,10271,10278,10279,10280,10282,10301,10302,10303,10304,10305,10306,10307,10308,10309,10310,10311,10312,10314,10451,10452,10453,10454,10455,10456,10457,10458,10459,10460,10461,10462,10463,10464,10465,10466,10467,10468,10469,10470,10471,10472,10473,10474,10475,11096,11101,11102,11103,11104,11105,11106,11109,11201,11203,11204,11205,11206,11207,11208,11004,11209,11210,11211,11212,11213,11214,11215,11216,11217,11218,11219,11220,11221,11222,11223,11224,11225,11226,11228,11229,11230,11231,11232,11233,11234,11235,11236,11237,11238,11239,11354,11355,11356,11357,11358,11359,11360,11361,11362,11363,11364,11365,11366,11367,11368,11369,11370,11371,11372,11373,11374,11375,11377,11378,11379,11385,11411,11412,11413,11414,11415,11416,11417,11418,11419,11420,11421,11422,11423,11424,11425,11426,11427,11428,11429,11430,11432,11433,11434,11435,11436,11451,11691,11692,11693,11694,11697&in=state:36'\n",
    "\n",
    "# create pandas DataFrame from json, drop first row\n",
    "poverty = pd.read_json(url)\n",
    "poverty = poverty.drop(poverty.index[[0]])\n",
    "\n",
    "#rename poverty columns\n",
    "#0 = B19013_001E = household_median_income\n",
    "#1 = B17001_001E = status_determined\n",
    "#2 = B17001_002E = total_poverty\n",
    "#3 = state\n",
    "#4 = zip_code\n",
    "poverty = poverty.rename(columns={0: 'household_median_income',\n",
    "                                  1: 'status_determined',\n",
    "                                  2: 'total_poverty',\n",
    "                                  3: 'state',\n",
    "                                  4: 'zip_code'})\n",
    "\n",
    "# fix poverty dtypes\n",
    "poverty.household_median_income = poverty.household_median_income.astype('int64')\n",
    "poverty.status_determined = poverty.status_determined.astype('int64')\n",
    "poverty.total_poverty = poverty.total_poverty.astype('int64')\n",
    "\n",
    "#Filter no-population ZIP codes\n",
    "poverty = poverty[poverty.status_determined > 0]\n",
    "\n",
    "# determine poverty rate and create column\n",
    "poverty_rate = poverty.total_poverty / poverty.status_determined * 100\n",
    "poverty['poverty_rate'] = poverty_rate.round(2)"
   ]
  },
  {
   "cell_type": "code",
   "execution_count": 4,
   "id": "varying-prairie",
   "metadata": {},
   "outputs": [],
   "source": [
    "##----------------------INSURANCE SEQUENCE----------------------##\n",
    "# import insurance data \n",
    "insurance = pd.read_csv(\"NY health insurance.csv\").astype('str')\n",
    "#insurance.population = insurance.population.replace('-','0')\n",
    "\n",
    "# fix population dtype\n",
    "insurance.population = insurance.population.astype('int64')\n",
    "# remove non-populated ZIPs\n",
    "insurance = insurance[insurance.population > 0]\n",
    "\n",
    "# fix other dtypes\n",
    "insurance.zip_code = insurance.zip_code.astype(str)\n",
    "insurance.insured = insurance.insured.astype('int64')\n",
    "insurance.percent_insured = insurance.percent_insured.astype(float)\n",
    "insurance.insured = insurance.insured.astype('int64')\n",
    "insurance.percent_uninsured = insurance.percent_uninsured.astype(float)"
   ]
  },
  {
   "cell_type": "code",
   "execution_count": 5,
   "id": "emerging-stock",
   "metadata": {},
   "outputs": [
    {
     "data": {
      "text/html": [
       "<div>\n",
       "<style scoped>\n",
       "    .dataframe tbody tr th:only-of-type {\n",
       "        vertical-align: middle;\n",
       "    }\n",
       "\n",
       "    .dataframe tbody tr th {\n",
       "        vertical-align: top;\n",
       "    }\n",
       "\n",
       "    .dataframe thead th {\n",
       "        text-align: right;\n",
       "    }\n",
       "</style>\n",
       "<table border=\"1\" class=\"dataframe\">\n",
       "  <thead>\n",
       "    <tr style=\"text-align: right;\">\n",
       "      <th></th>\n",
       "      <th>zip_code</th>\n",
       "      <th>population</th>\n",
       "      <th>insured</th>\n",
       "      <th>percent_insured</th>\n",
       "      <th>uninsured</th>\n",
       "      <th>percent_uninsured</th>\n",
       "      <th>household_median_income</th>\n",
       "      <th>status_determined</th>\n",
       "      <th>total_poverty</th>\n",
       "      <th>state</th>\n",
       "      <th>poverty_rate</th>\n",
       "      <th>priority_neighborhood</th>\n",
       "      <th>borough</th>\n",
       "      <th>neighborhoods</th>\n",
       "      <th>at_least_1_dose</th>\n",
       "      <th>geometry</th>\n",
       "      <th>indicator</th>\n",
       "      <th>fully_vaccinated</th>\n",
       "      <th>partially_vaccinated</th>\n",
       "      <th>perc_fully</th>\n",
       "      <th>perc_partially</th>\n",
       "      <th>pop_denominator</th>\n",
       "      <th>pop_estimate</th>\n",
       "    </tr>\n",
       "  </thead>\n",
       "  <tbody>\n",
       "    <tr>\n",
       "      <th>87</th>\n",
       "      <td>11106</td>\n",
       "      <td>37659</td>\n",
       "      <td>35182</td>\n",
       "      <td>93.4</td>\n",
       "      <td>2477</td>\n",
       "      <td>6.6</td>\n",
       "      <td>68530</td>\n",
       "      <td>37550</td>\n",
       "      <td>4744</td>\n",
       "      <td>36</td>\n",
       "      <td>12.63</td>\n",
       "      <td>True</td>\n",
       "      <td>Queens</td>\n",
       "      <td>Astoria (South)</td>\n",
       "      <td>3294</td>\n",
       "      <td>Polygon</td>\n",
       "      <td>4.48</td>\n",
       "      <td>1423</td>\n",
       "      <td>1871</td>\n",
       "      <td>4.48</td>\n",
       "      <td>5.89</td>\n",
       "      <td>37429</td>\n",
       "      <td>31753</td>\n",
       "    </tr>\n",
       "  </tbody>\n",
       "</table>\n",
       "</div>"
      ],
      "text/plain": [
       "   zip_code  population  insured  percent_insured uninsured  \\\n",
       "87    11106       37659    35182             93.4      2477   \n",
       "\n",
       "    percent_uninsured  household_median_income  status_determined  \\\n",
       "87                6.6                    68530              37550   \n",
       "\n",
       "    total_poverty state  poverty_rate  priority_neighborhood borough  \\\n",
       "87           4744    36         12.63                   True  Queens   \n",
       "\n",
       "      neighborhoods  at_least_1_dose geometry  indicator  fully_vaccinated  \\\n",
       "87  Astoria (South)             3294  Polygon       4.48              1423   \n",
       "\n",
       "    partially_vaccinated  perc_fully  perc_partially  pop_denominator  \\\n",
       "87                  1871        4.48            5.89            37429   \n",
       "\n",
       "    pop_estimate  \n",
       "87         31753  "
      ]
     },
     "execution_count": 5,
     "metadata": {},
     "output_type": "execute_result"
    }
   ],
   "source": [
    "# merge insurance, poverty, and vax DataFrames\n",
    "merged = pd.merge(insurance, poverty, on=\"zip_code\")\n",
    "merged = pd.merge(merged, vax, on=\"zip_code\")\n",
    "merged.sample()"
   ]
  },
  {
   "cell_type": "code",
   "execution_count": 6,
   "id": "cellular-austin",
   "metadata": {},
   "outputs": [],
   "source": [
    "# print them to a spreadsheet titled VAX_MASTER\n",
    "merged.to_csv(\"VAX_MASTER.csv\", index=False, encoding='utf-8')"
   ]
  }
 ],
 "metadata": {
  "kernelspec": {
   "display_name": "Python 3",
   "language": "python",
   "name": "python3"
  },
  "language_info": {
   "codemirror_mode": {
    "name": "ipython",
    "version": 3
   },
   "file_extension": ".py",
   "mimetype": "text/x-python",
   "name": "python",
   "nbconvert_exporter": "python",
   "pygments_lexer": "ipython3",
   "version": "3.9.1"
  }
 },
 "nbformat": 4,
 "nbformat_minor": 5
}
